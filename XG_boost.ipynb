{
  "nbformat": 4,
  "nbformat_minor": 0,
  "metadata": {
    "colab": {
      "name": " XG_boost.ipynb",
      "provenance": [],
      "collapsed_sections": []
    },
    "kernelspec": {
      "name": "python3",
      "display_name": "Python 3"
    },
    "language_info": {
      "name": "python"
    }
  },
  "cells": [
    {
      "cell_type": "markdown",
      "source": [
        "#Imprort libarireries"
      ],
      "metadata": {
        "id": "7QGzeZjiZ8hz"
      }
    },
    {
      "cell_type": "code",
      "source": [
        "from datetime import datetime\n",
        "import pandas as pd\n",
        "import numpy as np\n",
        "import seaborn as sns\n",
        "sns.set_style(\"whitegrid\")\n",
        "import os\n",
        "import random\n",
        "import matplotlib\n",
        "import matplotlib.pyplot as plt\n",
        "from scipy import sparse\n",
        "from sklearn.metrics.pairwise import cosine_similarity\n",
        "from sklearn.metrics import *\n",
        "import xgboost as xgb\n"
      ],
      "metadata": {
        "id": "mFx9z7OAJj5-"
      },
      "execution_count": null,
      "outputs": []
    },
    {
      "cell_type": "code",
      "source": [
        "%cd \"/content/drive/MyDrive/course/Năm_4/Học Kỳ 7/DS300.M1_Hkhuynngh/Project/data_final\""
      ],
      "metadata": {
        "colab": {
          "base_uri": "https://localhost:8080/"
        },
        "id": "v9XoXvvpx9Sx",
        "outputId": "ae57251a-25cd-4fe7-9230-0e079893c964"
      },
      "execution_count": null,
      "outputs": [
        {
          "output_type": "stream",
          "name": "stdout",
          "text": [
            "[Errno 2] No such file or directory: '/content/drive/MyDrive/course/Năm_4/Học Kỳ 7/DS300.M1_Hkhuynngh/Project/data_final'\n",
            "/content\n"
          ]
        }
      ]
    },
    {
      "cell_type": "markdown",
      "source": [
        "#Read data"
      ],
      "metadata": {
        "id": "tSXpbLVyaZA4"
      }
    },
    {
      "cell_type": "code",
      "source": [
        "colnames = [\"CustID\", \"ProductID\", \"Ratings\", \"timestamp\"]\n",
        "Train_Data = pd.read_csv(\"/content/drive/MyDrive/course/Năm_4/Học Kỳ 7/DS300.M1_Hkhuynngh/Project/data_final/ratings_Musical_Instruments_train.csv\",header=0, names=colnames)\n",
        "Test_Data = pd.read_csv(\"/content/drive/MyDrive/course/Năm_4/Học Kỳ 7/DS300.M1_Hkhuynngh/Project/data_final/ratings_Musical_Instruments_test.csv\",header=0, names=colnames)"
      ],
      "metadata": {
        "id": "0hoeRNS3ONGy"
      },
      "execution_count": null,
      "outputs": []
    },
    {
      "cell_type": "code",
      "source": [
        "len(Train_Data)"
      ],
      "metadata": {
        "colab": {
          "base_uri": "https://localhost:8080/"
        },
        "id": "RLsV74AG6ZH8",
        "outputId": "9df61db2-0650-4a04-b845-f208ed798b2b"
      },
      "execution_count": null,
      "outputs": [
        {
          "output_type": "execute_result",
          "data": {
            "text/plain": [
              "8000"
            ]
          },
          "metadata": {},
          "execution_count": 13
        }
      ]
    },
    {
      "cell_type": "code",
      "source": [
        "len(Test_Data)"
      ],
      "metadata": {
        "colab": {
          "base_uri": "https://localhost:8080/"
        },
        "id": "gMaH5THD6jkS",
        "outputId": "82b53d4d-2ba8-48cc-f21c-37de4e5bcc0a"
      },
      "execution_count": null,
      "outputs": [
        {
          "output_type": "execute_result",
          "data": {
            "text/plain": [
              "2000"
            ]
          },
          "metadata": {},
          "execution_count": 14
        }
      ]
    },
    {
      "cell_type": "code",
      "source": [
        "len(Train_Data[\"CustID\"].unique())"
      ],
      "metadata": {
        "colab": {
          "base_uri": "https://localhost:8080/"
        },
        "id": "B_1gR22aRL26",
        "outputId": "bc03f578-4e3b-4121-e37e-030fb941eb55"
      },
      "execution_count": null,
      "outputs": [
        {
          "output_type": "execute_result",
          "data": {
            "text/plain": [
              "7821"
            ]
          },
          "metadata": {},
          "execution_count": 12
        }
      ]
    },
    {
      "cell_type": "code",
      "source": [
        "len(Train_Data[\"ProductID\"].unique())"
      ],
      "metadata": {
        "colab": {
          "base_uri": "https://localhost:8080/"
        },
        "id": "yASfk4k-5MVh",
        "outputId": "7a67aa91-9acb-4166-94d9-4f60f7d7552e"
      },
      "execution_count": null,
      "outputs": [
        {
          "output_type": "execute_result",
          "data": {
            "text/plain": [
              "5585"
            ]
          },
          "metadata": {},
          "execution_count": 9
        }
      ]
    },
    {
      "cell_type": "code",
      "source": [
        "len(Test_Data[\"ProductID\"].unique())"
      ],
      "metadata": {
        "colab": {
          "base_uri": "https://localhost:8080/"
        },
        "id": "MIRwen-65pi6",
        "outputId": "0f163d8d-b4ef-4bd9-fd45-e5277c106ca5"
      },
      "execution_count": null,
      "outputs": [
        {
          "output_type": "execute_result",
          "data": {
            "text/plain": [
              "1161"
            ]
          },
          "metadata": {},
          "execution_count": 10
        }
      ]
    },
    {
      "cell_type": "code",
      "source": [
        "len(Test_Data[\"CustID\"].unique())"
      ],
      "metadata": {
        "colab": {
          "base_uri": "https://localhost:8080/"
        },
        "id": "ostnTey64Ttx",
        "outputId": "1bdb0533-1256-4ae6-cedf-19ec1d20b82a"
      },
      "execution_count": null,
      "outputs": [
        {
          "output_type": "execute_result",
          "data": {
            "text/plain": [
              "1244"
            ]
          },
          "metadata": {},
          "execution_count": 11
        }
      ]
    },
    {
      "cell_type": "code",
      "source": [
        "len(Train_Data[\"CustID\"].unique())"
      ],
      "metadata": {
        "id": "Y2ScgYsm4SAq"
      },
      "execution_count": null,
      "outputs": []
    },
    {
      "cell_type": "markdown",
      "source": [
        "##Drop data"
      ],
      "metadata": {
        "id": "We3JNjzka9kK"
      }
    },
    {
      "cell_type": "markdown",
      "source": [
        "##Label data"
      ],
      "metadata": {
        "id": "g9LGJ92fbAZZ"
      }
    },
    {
      "cell_type": "code",
      "source": [
        "from sklearn.preprocessing import LabelEncoder\n",
        "Cust = LabelEncoder()\n",
        "Prod = LabelEncoder()\n",
        "\n",
        "Train_Data[\"CustID\"]   = Cust.fit_transform(Train_Data[\"CustID\"])\n",
        "Train_Data[\"ProductID\"]= Prod.fit_transform(Train_Data[\"ProductID\"])\n",
        "\n",
        "\n",
        "Test_Data[\"CustID\"]   = Cust.transform(Test_Data[\"CustID\"])\n",
        "Test_Data[\"ProductID\"]= Prod.transform(Test_Data[\"ProductID\"])\n",
        "\n"
      ],
      "metadata": {
        "id": "WAIAVAqZG000"
      },
      "execution_count": null,
      "outputs": []
    },
    {
      "cell_type": "markdown",
      "source": [
        "#Data pre-processing"
      ],
      "metadata": {
        "id": "ltHDuaN9bkSB"
      }
    },
    {
      "cell_type": "markdown",
      "source": [
        "##Creating USER-ITEM sparse matrix from data frame"
      ],
      "metadata": {
        "id": "DwGw74iGc1_9"
      }
    },
    {
      "cell_type": "code",
      "source": [
        "def creating_spares_matric(data=\"train\"):\n",
        "    if data==\"train\":\n",
        "        startTime = datetime.now()\n",
        "        print(\"Creating USER_ITEM sparse matrix for train Data\")\n",
        "        if os.path.isfile(\"/content/TrainUISparseData.npz\"):\n",
        "            print(\"Sparse Data is already present in your disk, no need to create further. Loading Sparse Matrix\")\n",
        "            TrainUISparseData = sparse.load_npz(\"/content/TrainUISparseData.npz\")\n",
        "            print(\"Shape of Train Sparse matrix = \"+str(TrainUISparseData.shape))\n",
        "            \n",
        "        else:\n",
        "            print(\"We are creating sparse data\")\n",
        "            TrainUISparseData = sparse.csr_matrix((Train_Data.Ratings, (Train_Data.CustID, Train_Data.ProductID)))\n",
        "            print(\"Creation done. Shape of sparse matrix = \"+str(TrainUISparseData.shape))\n",
        "            print(\"Saving it into disk for furthur usage.\")\n",
        "            sparse.save_npz(\"/content/TrainUISparseData.npz\", TrainUISparseData)\n",
        "            print(\"Done\\n\")\n",
        "        print(datetime.now() - startTime)\n",
        "        return TrainUISparseData\n",
        "    elif data==\"test\":\n",
        "   \n",
        "        startTime = datetime.now()\n",
        "        print(\"Creating USER_ITEM sparse matrix for test Data\")\n",
        "        if os.path.isfile(\"/content/TestUISparseData.npz\"):\n",
        "            print(\"Sparse Data is already present in your disk, no need to create further. Loading Sparse Matrix\")\n",
        "            TestUISparseData = sparse.load_npz(\"/content/TestUISparseData.npz\")\n",
        "            print(\"Shape of Test Sparse Matrix = \"+str(TestUISparseData.shape))\n",
        "        else:\n",
        "            print(\"We are creating sparse data\")\n",
        "            TestUISparseData = sparse.csr_matrix((Test_Data.Ratings, (Test_Data.CustID, Test_Data.ProductID)))\n",
        "            print(\"Creation done. Shape of sparse matrix = \"+str(TestUISparseData.shape))\n",
        "            print(\"Saving it into disk for furthur usage.\")\n",
        "            sparse.save_npz(\"/content/TestUISparseData.npz\", TestUISparseData)\n",
        "            print(\"Done\\n\")\n",
        "            print(datetime.now() - startTime)\n",
        "        return TestUISparseData"
      ],
      "metadata": {
        "id": "EEc9Ja63b4rK"
      },
      "execution_count": null,
      "outputs": []
    },
    {
      "cell_type": "code",
      "source": [
        "TrainUISparseData = creating_spares_matric(data=\"train\")\n",
        "TestUISparseData  = creating_spares_matric(data=\"test\")"
      ],
      "metadata": {
        "colab": {
          "base_uri": "https://localhost:8080/"
        },
        "id": "h_O1uEMreco8",
        "outputId": "70cf038b-6f21-44a5-8393-6e169b074274"
      },
      "execution_count": null,
      "outputs": [
        {
          "output_type": "stream",
          "name": "stdout",
          "text": [
            "Creating USER_ITEM sparse matrix for train Data\n",
            "We are creating sparse data\n",
            "Creation done. Shape of sparse matrix = (7821, 5585)\n",
            "Saving it into disk for furthur usage.\n",
            "Done\n",
            "\n",
            "0:00:00.024820\n",
            "Creating USER_ITEM sparse matrix for test Data\n",
            "We are creating sparse data\n",
            "Creation done. Shape of sparse matrix = (7819, 5553)\n",
            "Saving it into disk for furthur usage.\n",
            "Done\n",
            "\n",
            "0:00:00.006126\n"
          ]
        }
      ]
    },
    {
      "cell_type": "code",
      "source": [
        "TestUISparseData.shape"
      ],
      "metadata": {
        "colab": {
          "base_uri": "https://localhost:8080/"
        },
        "id": "0fjwJIUP0Xnz",
        "outputId": "8e8f562e-2b17-4011-8176-a0bfc19b9063"
      },
      "execution_count": null,
      "outputs": [
        {
          "output_type": "execute_result",
          "data": {
            "text/plain": [
              "(7819, 5553)"
            ]
          },
          "metadata": {},
          "execution_count": 35
        }
      ]
    },
    {
      "cell_type": "code",
      "source": [
        "TrainUISparseData.shape"
      ],
      "metadata": {
        "colab": {
          "base_uri": "https://localhost:8080/"
        },
        "id": "xyXFsYiz0ZRq",
        "outputId": "4d0b2c9c-cadf-44e5-9d52-fee22ca036a9"
      },
      "execution_count": null,
      "outputs": [
        {
          "output_type": "execute_result",
          "data": {
            "text/plain": [
              "(7821, 5585)"
            ]
          },
          "metadata": {},
          "execution_count": 36
        }
      ]
    },
    {
      "cell_type": "code",
      "source": [
        "rows,cols = TrainUISparseData.shape\n",
        "presentElements = TrainUISparseData.count_nonzero()\n",
        "print(\"Sparsity Of Train matrix : {}% \".format((1-(presentElements/(rows*cols)))*100))"
      ],
      "metadata": {
        "colab": {
          "base_uri": "https://localhost:8080/"
        },
        "id": "ZDVf4EZmgygf",
        "outputId": "b101bd1f-7e37-45bb-953a-87a2e69461f4"
      },
      "execution_count": null,
      "outputs": [
        {
          "output_type": "stream",
          "name": "stdout",
          "text": [
            "Sparsity Of Train matrix : 99.98168510118467% \n"
          ]
        }
      ]
    },
    {
      "cell_type": "code",
      "source": [
        "rows,cols = TestUISparseData.shape\n",
        "presentElements = TestUISparseData.count_nonzero()\n",
        "\n",
        "print(\"Sparsity Of Test matrix : {}% \".format((1-(presentElements/(rows*cols)))*100))"
      ],
      "metadata": {
        "colab": {
          "base_uri": "https://localhost:8080/"
        },
        "id": "qUzGz92Gmr_B",
        "outputId": "7728c927-5c5a-401d-89b6-3f3985636289"
      },
      "execution_count": null,
      "outputs": [
        {
          "output_type": "stream",
          "name": "stdout",
          "text": [
            "Sparsity Of Test matrix : 99.9953937117763% \n"
          ]
        }
      ]
    },
    {
      "cell_type": "markdown",
      "source": [
        "##Feature engineering data"
      ],
      "metadata": {
        "id": "bD1EfZLiguw3"
      }
    },
    {
      "cell_type": "code",
      "source": [
        "def getAverageRatings(sparseMatrix, if_user):\n",
        "    ax = 1 if if_user else 0\n",
        "    #axis = 1 means rows and axis = 0 means columns \n",
        "    sumOfRatings = sparseMatrix.sum(axis = ax).A1  #this will give an array of sum of all the ratings of user if axis = 1 else \n",
        "    #sum of all the ratings of product if axis = 0\n",
        "    noOfRatings = (sparseMatrix!=0).sum(axis = ax).A1  #this will give a boolean True or False array, and True means 1 and False \n",
        "    #means 0, and further we are summing it to get the count of all the non-zero cells means length of non-zero cells\n",
        "    rows, cols = sparseMatrix.shape\n",
        "    averageRatings = {i: sumOfRatings[i]/noOfRatings[i] for i in range(rows if if_user else cols) if noOfRatings[i]!=0}\n",
        "    return averageRatings"
      ],
      "metadata": {
        "id": "LB7QVrHVWa2h"
      },
      "execution_count": null,
      "outputs": []
    },
    {
      "cell_type": "code",
      "source": [
        "globalAvgProduct = getAverageRatings(TrainUISparseData, False)\n",
        "globalAvgUsers = getAverageRatings(TrainUISparseData, True)"
      ],
      "metadata": {
        "id": "bTxdEZsMpDIx"
      },
      "execution_count": null,
      "outputs": []
    },
    {
      "cell_type": "code",
      "source": [
        "sample_train_users, sample_train_product, sample_train_ratings = sparse.find(TrainUISparseData)"
      ],
      "metadata": {
        "id": "XIp5lmBFRs7S"
      },
      "execution_count": null,
      "outputs": []
    },
    {
      "cell_type": "code",
      "source": [
        "if os.path.isfile(\"/content/Train_Regression.csv\"):\n",
        "    print(\"File is already present in your disk. You do not have to prepare it again.\")\n",
        "else:\n",
        "    startTime = datetime.now()\n",
        "    print(\"Preparing Train csv file for {} rows\".format(len(sample_train_ratings)))\n",
        "    with open(\"/content/Train_Regression.csv\", mode = \"w\") as data:\n",
        "        count = 0\n",
        "        for user, product, rating in zip(sample_train_users, sample_train_product, sample_train_ratings):\n",
        "            row = list()\n",
        "            row.append(user)  #appending user ID\n",
        "            row.append(product) #appending product ID\n",
        "            row.append(TrainUISparseData.sum()/TrainUISparseData.count_nonzero()) #appending global average rating\n",
        "\n",
        "#----------------------------------Ratings given to \"product\" by top 5 similar users with \"user\"--------------------#\n",
        "            similar_users = cosine_similarity(TrainUISparseData[user], TrainUISparseData).ravel()\n",
        "            similar_users_indices = np.argsort(-similar_users)[1:]\n",
        "            similar_users_ratings = TrainUISparseData[similar_users_indices, product].toarray().ravel()\n",
        "            top_similar_user_ratings = list(similar_users_ratings[similar_users_ratings != 0][:5])\n",
        "            top_similar_user_ratings.extend([globalAvgProduct[product]]*(5-len(top_similar_user_ratings)))\n",
        "            #above line means that if top 5 ratings are not available then rest of the ratings will be filled by \"product\" average\n",
        "            #rating. Let say only 3 out of 5 ratings are available then rest 2 will be \"product\" average rating.\n",
        "            row.extend(top_similar_user_ratings)\n",
        "            \n",
        " #----------------------------------Ratings given by \"user\" to top 5 similar products with \"product\"------------------#\n",
        "            similar_products = cosine_similarity(TrainUISparseData[:,product].T, TrainUISparseData.T).ravel()\n",
        "            similar_products_indices = np.argsort(-similar_products)[1:]\n",
        "            similar_products_ratings = TrainUISparseData[user, similar_products_indices].toarray().ravel()\n",
        "            top_similar_product_ratings = list(similar_products_ratings[similar_products_ratings != 0][:5])\n",
        "            top_similar_product_ratings.extend([globalAvgUsers[user]]*(5-len(top_similar_product_ratings)))\n",
        "            #above line means that if top 5 ratings are not available then rest of the ratings will be filled by \"user\" average\n",
        "            #rating. Let say only 3 out of 5 ratings are available then rest 2 will be \"user\" average rating.\n",
        "            row.extend(top_similar_product_ratings)\n",
        "            \n",
        " #----------------------------------Appending \"user\" average, \"product\" average & rating of \"user\"\"product\"-----------#\n",
        "            row.append(globalAvgUsers[user])\n",
        "            row.append(globalAvgProduct[product])\n",
        "            row.append(rating)\n",
        "            \n",
        "#-----------------------------------Converting rows and appending them as comma separated values to csv file------#\n",
        "            data.write(\",\".join(map(str, row)))\n",
        "            data.write(\"\\n\")\n",
        "    \n",
        "            count += 1\n",
        "            if count % 2000 == 0:\n",
        "                print(\"Done for {}. Time elapsed: {}\".format(count, (datetime.now() - startTime)))\n",
        "                \n",
        "    print(\"Total Time for {} rows = {}\".format(len(sample_train_ratings), (datetime.now() - startTime)))"
      ],
      "metadata": {
        "colab": {
          "base_uri": "https://localhost:8080/"
        },
        "id": "wylqotd9bTiR",
        "outputId": "54528aa6-0b40-4de7-aea9-043d9e338f65"
      },
      "execution_count": null,
      "outputs": [
        {
          "output_type": "stream",
          "name": "stdout",
          "text": [
            "Preparing Train csv file for 8000 rows\n",
            "Done for 2000. Time elapsed: 0:00:09.373024\n",
            "Done for 4000. Time elapsed: 0:00:18.107505\n",
            "Done for 6000. Time elapsed: 0:00:26.655761\n",
            "Done for 8000. Time elapsed: 0:00:35.303973\n",
            "Total Time for 8000 rows = 0:00:35.305170\n"
          ]
        }
      ]
    },
    {
      "cell_type": "code",
      "source": [
        "Train_Reg = pd.read_csv(\"/content/Train_Regression.csv\", names = [\"User_ID\", \"product_ID\", \"Global_Average\", \"SUR1\", \"SUR2\", \"SUR3\", \"SUR4\", \"SUR5\", \"SMR1\", \"SMR2\", \"SMR3\", \"SMR4\", \"SMR5\", \"User_Average\", \"product_Average\", \"Rating\"])\n",
        "Train_Reg[:20]"
      ],
      "metadata": {
        "id": "QMURLb6woDBX"
      },
      "execution_count": null,
      "outputs": []
    },
    {
      "cell_type": "code",
      "source": [
        "Train_Reg = pd.read_csv(\"/content/Train_Regression.csv\", names = [\"User_ID\", \"product_ID\", \"Global_Average\", \"SUR1\", \"SUR2\", \"SUR3\", \"SUR4\", \"SUR5\", \"SMR1\", \"SMR2\", \"SMR3\", \"SMR4\", \"SMR5\", \"User_Average\", \"product_Average\", \"Rating\"])\n",
        "Train_Reg[100:200]"
      ],
      "metadata": {
        "id": "DeU8SgEc0cdI"
      },
      "execution_count": null,
      "outputs": []
    },
    {
      "cell_type": "code",
      "source": [
        "sample_test_users, sample_test_product, sample_test_ratings = sparse.find(TestUISparseData)"
      ],
      "metadata": {
        "id": "tjyHkatRX57r"
      },
      "execution_count": null,
      "outputs": []
    },
    {
      "cell_type": "code",
      "source": [
        "if os.path.isfile(\"/content/Test_Regression.csv\"):\n",
        "    print(\"File is already present in your disk. You do not have to prepare it again.\")\n",
        "else:\n",
        "    startTime = datetime.now()\n",
        "    print(\"Preparing Test csv file for {} rows\".format(len(sample_test_ratings)))\n",
        "    with open(\"/content/Test_Regression.csv\", mode = \"w\") as data:\n",
        "        count = 0\n",
        "        for user, product, rating in zip(sample_test_users, sample_test_product, sample_test_ratings):\n",
        "            row = list()\n",
        "            row.append(user)  #appending user ID\n",
        "            row.append(product) #appending product ID\n",
        "            row.append(TrainUISparseData.sum()/TrainUISparseData.count_nonzero()) #appending global average rating\n",
        "\n",
        "#-----------------------------Ratings given to \"product\" by top 5 similar users with \"user\"-------------------------#\n",
        "            try:\n",
        "                similar_users = cosine_similarity(TrainUISparseData[user], TrainUISparseData).ravel()\n",
        "                similar_users_indices = np.argsort(-similar_users)[1:]\n",
        "                similar_users_ratings = TrainUISparseData[similar_users_indices, product].toarray().ravel()\n",
        "                top_similar_user_ratings = list(similar_users_ratings[similar_users_ratings != 0][:5])\n",
        "                top_similar_user_ratings.extend([globalAvgProduct[product]]*(5-len(top_similar_user_ratings)))\n",
        "                #above line means that if top 5 ratings are not available then rest of the ratings will be filled by \"product\" \n",
        "                #average rating. Let say only 3 out of 5 ratings are available then rest 2 will be \"product\" average rating.\n",
        "                row.extend(top_similar_user_ratings)\n",
        "            #########Cold Start Problem, for a new user or a new product#########    \n",
        "            except(IndexError, KeyError):\n",
        "                global_average_train_rating = [TrainUISparseData.sum()/TrainUISparseData.count_nonzero()]*5\n",
        "                row.extend(global_average_train_rating)\n",
        "            except:\n",
        "                raise\n",
        "                \n",
        " #-----------------------------Ratings given by \"user\" to top 5 similar products with \"product\"-----------------------#\n",
        "            try:\n",
        "                similar_products = cosine_similarity(TrainUISparseData[:,product].T, TrainUISparseData.T).ravel()\n",
        "                similar_products_indices = np.argsort(-similar_products)[1:]\n",
        "                similar_products_ratings = TrainUISparseData[user, similar_products_indices].toarray().ravel()\n",
        "                top_similar_product_ratings = list(similar_products_ratings[similar_products_ratings != 0][:5])\n",
        "                top_similar_product_ratings.extend([globalAvgUsers[user]]*(5-len(top_similar_product_ratings)))\n",
        "                #above line means that if top 5 ratings are not available then rest of the ratings will be filled by \"user\" \n",
        "                #average rating. Let say only 3 out of 5 ratings are available then rest 2 will be \"user\" average rating.\n",
        "                row.extend(top_similar_product_ratings)\n",
        "            #########Cold Start Problem, for a new user or a new product#########\n",
        "            except(IndexError, KeyError):\n",
        "                global_average_train_rating = [TrainUISparseData.sum()/TrainUISparseData.count_nonzero()]*5\n",
        "                row.extend(global_average_train_rating)\n",
        "            except:\n",
        "                raise\n",
        "                \n",
        " #-----------------------------Appending \"user\" average, \"product\" average & rating of \"user\"\"product\"----------------#\n",
        "            try:        \n",
        "                row.append(globalAvgUsers[user])\n",
        "            except (KeyError):\n",
        "                global_average_train_rating = TrainUISparseData.sum()/TrainUISparseData.count_nonzero()\n",
        "                row.append(global_average_train_rating)\n",
        "            except:\n",
        "                raise\n",
        "                \n",
        "            try:\n",
        "                row.append(globalAvgProduct[product])\n",
        "            except(KeyError):\n",
        "                global_average_train_rating = TrainUISparseData.sum()/TrainUISparseData.count_nonzero()\n",
        "                row.append(global_average_train_rating)\n",
        "            except:\n",
        "                raise\n",
        "                \n",
        "            row.append(rating)\n",
        "            \n",
        "#------------------------------Converting rows and appending them as comma separated values to csv file-----------#\n",
        "            data.write(\",\".join(map(str, row)))\n",
        "            data.write(\"\\n\")\n",
        "    \n",
        "            count += 1\n",
        "            if count % 100 == 0:\n",
        "                print(\"Done for {}. Time elapsed: {}\".format(count, (datetime.now() - startTime)))\n",
        "                \n",
        "    print(\"Total Time for {} rows = {}\".format(len(sample_test_ratings), (datetime.now() - startTime)))"
      ],
      "metadata": {
        "colab": {
          "base_uri": "https://localhost:8080/"
        },
        "id": "Fph4HnBlq0Ht",
        "outputId": "fca8cda9-3079-4417-afb7-e93f181c413d"
      },
      "execution_count": null,
      "outputs": [
        {
          "output_type": "stream",
          "name": "stdout",
          "text": [
            "Preparing Test csv file for 2000 rows\n",
            "Done for 100. Time elapsed: 0:00:00.499768\n",
            "Done for 200. Time elapsed: 0:00:00.972046\n",
            "Done for 300. Time elapsed: 0:00:01.464800\n",
            "Done for 400. Time elapsed: 0:00:01.985937\n",
            "Done for 500. Time elapsed: 0:00:03.098229\n",
            "Done for 600. Time elapsed: 0:00:04.465853\n",
            "Done for 700. Time elapsed: 0:00:05.179146\n",
            "Done for 800. Time elapsed: 0:00:05.629832\n",
            "Done for 900. Time elapsed: 0:00:06.083071\n",
            "Done for 1000. Time elapsed: 0:00:06.557512\n",
            "Done for 1100. Time elapsed: 0:00:07.046185\n",
            "Done for 1200. Time elapsed: 0:00:07.601547\n",
            "Done for 1300. Time elapsed: 0:00:08.067976\n",
            "Done for 1400. Time elapsed: 0:00:08.563690\n",
            "Done for 1500. Time elapsed: 0:00:09.040011\n",
            "Done for 1600. Time elapsed: 0:00:09.534260\n",
            "Done for 1700. Time elapsed: 0:00:09.991592\n",
            "Done for 1800. Time elapsed: 0:00:10.489495\n",
            "Done for 1900. Time elapsed: 0:00:10.930232\n",
            "Done for 2000. Time elapsed: 0:00:11.406731\n",
            "Total Time for 2000 rows = 0:00:11.407849\n"
          ]
        }
      ]
    },
    {
      "cell_type": "code",
      "source": [
        "Test_Reg = pd.read_csv(\"/content/Test_Regression.csv\", names = [\"User_ID\", \"product_ID\", \"Global_Average\", \"SUR1\", \"SUR2\", \"SUR3\", \"SUR4\", \"SUR5\", \"SMR1\", \"SMR2\", \"SMR3\", \"SMR4\", \"SMR5\", \"User_Average\", \"product_Average\", \"Rating\"])\n",
        "Test_Reg.head()"
      ],
      "metadata": {
        "id": "tOSZa9vSrHvv"
      },
      "execution_count": null,
      "outputs": []
    },
    {
      "cell_type": "markdown",
      "source": [
        "#Model"
      ],
      "metadata": {
        "id": "OLqD7yMYrVEe"
      }
    },
    {
      "cell_type": "code",
      "source": [
        "error_table = pd.DataFrame(columns = [\"Model\", \"Train RMSE\", \"Train MAPE\", \"Test RMSE\", \"Test MAPE\"])\n",
        "model_train_evaluation = dict()\n",
        "model_test_evaluation = dict()"
      ],
      "metadata": {
        "id": "i12Bhdavpmri"
      },
      "execution_count": null,
      "outputs": []
    },
    {
      "cell_type": "code",
      "source": [
        "def make_table(model_name, rmse_train, mape_train, rmse_test, mape_test):\n",
        "    global error_table\n",
        "    #All variable assignments in a function store the value in the local symbol table; whereas variable references first look \n",
        "    #in the local symbol table, then in the global symbol table, and then in the table of built-in names. Thus, global variables \n",
        "    #cannot be directly assigned a value within a function (unless named in a global statement), \n",
        "    #although they may be referenced.\n",
        "    error_table = error_table.append(pd.DataFrame([[model_name, rmse_train, mape_train, rmse_test, mape_test]], columns = [\"Model\", \"Train RMSE\", \"Train MAPE\", \"Test RMSE\", \"Test MAPE\"]))\n",
        "    error_table.reset_index(drop = True, inplace = True)"
      ],
      "metadata": {
        "id": "pePIPsiHaZNF"
      },
      "execution_count": null,
      "outputs": []
    },
    {
      "cell_type": "code",
      "source": [
        "def error_metrics(y_true, y_pred):\n",
        "    rmse = np.sqrt(mean_squared_error(y_true, y_pred))\n",
        "    mse  = mean_squared_error(y_true, y_pred)\n",
        "    mae  = mean_absolute_error(y_true, y_pred)\n",
        "    y_true =list(y_true.sort_values())\n",
        "    max  = y_true[-1]\n",
        "    min  = y_true[0]\n",
        "    nmae = mae/(max-min)\n",
        "    return rmse, mse, mae, nmae"
      ],
      "metadata": {
        "id": "RTkhAuNaaI2_"
      },
      "execution_count": null,
      "outputs": []
    },
    {
      "cell_type": "code",
      "source": [
        "def train_test_xgboost(x_train, x_test, y_train, y_test, model_name):\n",
        "    startTime = datetime.now()\n",
        "    train_result = dict()\n",
        "    test_result = dict()\n",
        "    \n",
        "    clf = xgb.XGBRegressor(n_estimators = 100, silent = False, n_jobs  = 10)\n",
        "    clf.fit(x_train, y_train)\n",
        "    \n",
        "    print(\"-\"*50)\n",
        "    print(\"TRAIN DATA\")\n",
        "    y_pred_train = clf.predict(x_train)\n",
        "    rmse_train, mse_train, mae_train, nmae_train = error_metrics(y_train, y_pred_train)\n",
        "    print(\"RMSE = {}\".format(rmse_train))\n",
        "    print(\"MSE = {}\".format(mse_train))\n",
        "    print(\"MAE = {}\".format(mae_train))\n",
        "    print(\"NMAE = {}\".format(nmae_train))\n",
        "    print(\"-\"*50)\n",
        "    train_result = {\"RMSE\": rmse_train, \"MSE\": mse_train, \"MAE\": mse_train, \"NMAE\": nmae_train, \"Prediction\": y_pred_train}\n",
        "    \n",
        "    print(\"TEST DATA\")\n",
        "    y_pred_test = clf.predict(x_test)\n",
        "    rmse_test, mse_test, mae_test, nmae_test= error_metrics(y_test, y_pred_test)\n",
        "    print(\"RMSE = {}\".format(rmse_test))\n",
        "    print(\"MSE = {}\".format(mse_test))\n",
        "    print(\"MAE = {}\".format(mae_test))\n",
        "    print(\"NMAE = {}\".format(nmae_test))\n",
        "    print(\"-\"*50)\n",
        "    test_result = {\"RMSE\": rmse_test, \"MSE\": mse_test, \"MAE\": mse_test, \"NMAE\": nmae_test, \"Prediction\": y_pred_test}\n",
        "\n",
        "        \n",
        "    print(\"Time Taken = \"+str(datetime.now() - startTime))\n",
        "    \n",
        "    plot_importance(xgb, clf)\n",
        "    \n",
        "    # make_table(model_name, rmse_train, mape_train, rmse_test, mape_test)\n",
        "    \n",
        "    return train_result,test_result"
      ],
      "metadata": {
        "id": "tLPZUKhlaBSJ"
      },
      "execution_count": null,
      "outputs": []
    },
    {
      "cell_type": "code",
      "source": [
        "def plot_importance(model, clf):\n",
        "    fig = plt.figure(figsize = (8, 6))\n",
        "    ax = fig.add_axes([0,0,1,1])\n",
        "    model.plot_importance(clf, ax = ax, height = 0.3)\n",
        "    plt.xlabel(\"F Score\", fontsize = 20)\n",
        "    plt.ylabel(\"Features\", fontsize = 20)\n",
        "    plt.title(\"Feature Importance\", fontsize = 20)\n",
        "    plt.tick_params(labelsize = 15)\n",
        "    \n",
        "    plt.show()"
      ],
      "metadata": {
        "id": "4r3FAzkIaRUH"
      },
      "execution_count": null,
      "outputs": []
    },
    {
      "cell_type": "code",
      "source": [
        "x_train = Train_Reg.drop([\"User_ID\", \"product_ID\", \"Rating\"], axis = 1)\n",
        "\n",
        "x_test = Test_Reg.drop([\"User_ID\", \"product_ID\", \"Rating\"], axis = 1)\n",
        "\n",
        "y_train = Train_Reg[\"Rating\"]\n",
        "\n",
        "y_test = Test_Reg[\"Rating\"]\n",
        "\n",
        "train_result, test_result= train_test_xgboost(x_train, x_test, y_train, y_test, \"XGBoost_13\")\n",
        "\n",
        "model_train_evaluation[\"XGBoost_13\"] = train_result\n",
        "model_test_evaluation[\"XGBoost_13\"] = test_result"
      ],
      "metadata": {
        "colab": {
          "base_uri": "https://localhost:8080/",
          "height": 790
        },
        "id": "8mMj322zZ6w8",
        "outputId": "e3427edc-ec01-499f-b30a-2febbffb9a79"
      },
      "execution_count": null,
      "outputs": [
        {
          "output_type": "stream",
          "name": "stdout",
          "text": [
            "[06:37:53] WARNING: /workspace/src/objective/regression_obj.cu:152: reg:linear is now deprecated in favor of reg:squarederror.\n",
            "--------------------------------------------------\n",
            "TRAIN DATA\n",
            "RMSE = 0.047816476232601136\n",
            "MSE = 0.0022864153993029093\n",
            "MAE = 0.006770452104508877\n",
            "NMAE = 0.0016926130261272192\n",
            "--------------------------------------------------\n",
            "TEST DATA\n",
            "RMSE = 1.2858328124509995\n",
            "MSE = 1.6533660215756472\n",
            "MAE = 0.727734917640686\n",
            "NMAE = 0.1819337294101715\n",
            "--------------------------------------------------\n",
            "Time Taken = 0:00:00.594383\n"
          ]
        },
        {
          "output_type": "display_data",
          "data": {
            "image/png": "[encoded data removed]",
            "text/plain": [
              "<Figure size 576x432 with 1 Axes>"
            ]
          },
          "metadata": {}
        }
      ]
    }
  ]
}