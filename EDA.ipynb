{
  "nbformat": 4,
  "nbformat_minor": 0,
  "metadata": {
    "colab": {
      "name": "EDA.ipynb",
      "provenance": [],
      "collapsed_sections": []
    },
    "kernelspec": {
      "name": "python3",
      "display_name": "Python 3"
    },
    "language_info": {
      "name": "python"
    }
  },
  "cells": [
    {
      "cell_type": "code",
      "metadata": {
        "id": "dAp1NlhQNgVE"
      },
      "source": [
        "import numpy as np \n",
        "import pandas as pd \n",
        "import os\n",
        "from IPython.core.interactiveshell import InteractiveShell\n",
        "InteractiveShell.ast_node_interactivity = \"all\"\n",
        "import math\n",
        "import statistics\n",
        "import json\n",
        "import time\n",
        "import matplotlib\n",
        "import matplotlib.pyplot as plt\n",
        "import seaborn as sns\n",
        "from sklearn.metrics.pairwise import cosine_similarity\n",
        "from sklearn.model_selection import train_test_split\n",
        "from sklearn.metrics import mean_squared_error\n",
        "from math import sqrt\n",
        "from sklearn.neighbors import NearestNeighbors\n",
        "import joblib\n",
        "import scipy.sparse\n",
        "from scipy.sparse import csr_matrix\n",
        "from scipy.sparse.linalg import svds\n",
        "import warnings; warnings.simplefilter('ignore')\n",
        "import networkx as nx\n",
        "#import igraph as ig\n",
        "import statistics\n",
        "import matplotlib.pyplot as plt; plt.rcdefaults()\n",
        "import seaborn as sns\n",
        "sns.set_style('whitegrid')\n",
        "\n",
        "# import functions as f"
      ],
      "execution_count": null,
      "outputs": []
    },
    {
      "cell_type": "code",
      "metadata": {
        "id": "9-gzhMWFOIJI"
      },
      "source": [
        "colnames = [\"userId\", \"productId\", \"Rating\", \"timestamp\"]\n",
        "ratings = pd.read_csv(\"/content/drive/MyDrive/course/Năm_4/Học Kỳ 7/DS300.M1_Hkhuynngh/Project/ratings_Musical_Instruments.csv\", names= colnames)"
      ],
      "execution_count": null,
      "outputs": []
    },
    {
      "cell_type": "code",
      "metadata": {
        "colab": {
          "base_uri": "https://localhost:8080/",
          "height": 424
        },
        "id": "6aySA1I7t3VE",
        "outputId": "709836d2-5231-4755-d15a-6a4a2ef9a075"
      },
      "source": [
        "ratings"
      ],
      "execution_count": null,
      "outputs": [
        {
          "output_type": "execute_result",
          "data": {
            "text/html": [
              "<div>\n",
              "<style scoped>\n",
              "    .dataframe tbody tr th:only-of-type {\n",
              "        vertical-align: middle;\n",
              "    }\n",
              "\n",
              "    .dataframe tbody tr th {\n",
              "        vertical-align: top;\n",
              "    }\n",
              "\n",
              "    .dataframe thead th {\n",
              "        text-align: right;\n",
              "    }\n",
              "</style>\n",
              "<table border=\"1\" class=\"dataframe\">\n",
              "  <thead>\n",
              "    <tr style=\"text-align: right;\">\n",
              "      <th></th>\n",
              "      <th>userId</th>\n",
              "      <th>productId</th>\n",
              "      <th>Rating</th>\n",
              "      <th>timestamp</th>\n",
              "    </tr>\n",
              "  </thead>\n",
              "  <tbody>\n",
              "    <tr>\n",
              "      <th>0</th>\n",
              "      <td>A1YS9MDZP93857</td>\n",
              "      <td>0006428320</td>\n",
              "      <td>3.0</td>\n",
              "      <td>1394496000</td>\n",
              "    </tr>\n",
              "    <tr>\n",
              "      <th>1</th>\n",
              "      <td>A3TS466QBAWB9D</td>\n",
              "      <td>0014072149</td>\n",
              "      <td>5.0</td>\n",
              "      <td>1370476800</td>\n",
              "    </tr>\n",
              "    <tr>\n",
              "      <th>2</th>\n",
              "      <td>A3BUDYITWUSIS7</td>\n",
              "      <td>0041291905</td>\n",
              "      <td>5.0</td>\n",
              "      <td>1381708800</td>\n",
              "    </tr>\n",
              "    <tr>\n",
              "      <th>3</th>\n",
              "      <td>A19K10Z0D2NTZK</td>\n",
              "      <td>0041913574</td>\n",
              "      <td>5.0</td>\n",
              "      <td>1285200000</td>\n",
              "    </tr>\n",
              "    <tr>\n",
              "      <th>4</th>\n",
              "      <td>A14X336IB4JD89</td>\n",
              "      <td>0201891859</td>\n",
              "      <td>1.0</td>\n",
              "      <td>1350432000</td>\n",
              "    </tr>\n",
              "    <tr>\n",
              "      <th>...</th>\n",
              "      <td>...</td>\n",
              "      <td>...</td>\n",
              "      <td>...</td>\n",
              "      <td>...</td>\n",
              "    </tr>\n",
              "    <tr>\n",
              "      <th>500171</th>\n",
              "      <td>A2XEVARMJP81E</td>\n",
              "      <td>B00LIR7QNS</td>\n",
              "      <td>5.0</td>\n",
              "      <td>1405641600</td>\n",
              "    </tr>\n",
              "    <tr>\n",
              "      <th>500172</th>\n",
              "      <td>A3PAQGM6P87MXO</td>\n",
              "      <td>B00LJD5AUM</td>\n",
              "      <td>5.0</td>\n",
              "      <td>1404518400</td>\n",
              "    </tr>\n",
              "    <tr>\n",
              "      <th>500173</th>\n",
              "      <td>A2KZX7A4XZ4T2W</td>\n",
              "      <td>B00LK7A9SK</td>\n",
              "      <td>5.0</td>\n",
              "      <td>1404518400</td>\n",
              "    </tr>\n",
              "    <tr>\n",
              "      <th>500174</th>\n",
              "      <td>AIDHT6KXOL64T</td>\n",
              "      <td>SMLRBIMX03</td>\n",
              "      <td>5.0</td>\n",
              "      <td>1355788800</td>\n",
              "    </tr>\n",
              "    <tr>\n",
              "      <th>500175</th>\n",
              "      <td>A161I1MHX2G2BR</td>\n",
              "      <td>SMLRBIMX03</td>\n",
              "      <td>4.0</td>\n",
              "      <td>1364860800</td>\n",
              "    </tr>\n",
              "  </tbody>\n",
              "</table>\n",
              "<p>500176 rows × 4 columns</p>\n",
              "</div>"
            ],
            "text/plain": [
              "                userId   productId  Rating   timestamp\n",
              "0       A1YS9MDZP93857  0006428320     3.0  1394496000\n",
              "1       A3TS466QBAWB9D  0014072149     5.0  1370476800\n",
              "2       A3BUDYITWUSIS7  0041291905     5.0  1381708800\n",
              "3       A19K10Z0D2NTZK  0041913574     5.0  1285200000\n",
              "4       A14X336IB4JD89  0201891859     1.0  1350432000\n",
              "...                ...         ...     ...         ...\n",
              "500171   A2XEVARMJP81E  B00LIR7QNS     5.0  1405641600\n",
              "500172  A3PAQGM6P87MXO  B00LJD5AUM     5.0  1404518400\n",
              "500173  A2KZX7A4XZ4T2W  B00LK7A9SK     5.0  1404518400\n",
              "500174   AIDHT6KXOL64T  SMLRBIMX03     5.0  1355788800\n",
              "500175  A161I1MHX2G2BR  SMLRBIMX03     4.0  1364860800\n",
              "\n",
              "[500176 rows x 4 columns]"
            ]
          },
          "metadata": {},
          "execution_count": 3
        }
      ]
    },
    {
      "cell_type": "markdown",
      "metadata": {
        "id": "46Bl_1cWCBMI"
      },
      "source": [
        ""
      ]
    },
    {
      "cell_type": "markdown",
      "metadata": {
        "id": "aBLp6swvvJ2s"
      },
      "source": [
        "#Check values"
      ]
    },
    {
      "cell_type": "code",
      "metadata": {
        "colab": {
          "base_uri": "https://localhost:8080/"
        },
        "id": "_InHlCI-gwhG",
        "outputId": "504d0e64-f4d7-4eb6-f4a0-531147190abb"
      },
      "source": [
        "n_users = ratings.userId.unique().shape[0]\n",
        "n_items = ratings.productId.unique().shape[0]\n",
        "\n",
        "print('No. of unique users: ', n_users)\n",
        "print('No, of unique products: ', n_items)"
      ],
      "execution_count": null,
      "outputs": [
        {
          "output_type": "stream",
          "name": "stdout",
          "text": [
            "No. of unique users:  339231\n",
            "No, of unique products:  83046\n"
          ]
        }
      ]
    },
    {
      "cell_type": "code",
      "metadata": {
        "colab": {
          "base_uri": "https://localhost:8080/"
        },
        "id": "yKCgBuM1us3Q",
        "outputId": "f6cb5615-8017-4cd7-dc14-ae161e9e78c5"
      },
      "source": [
        "#Checking for missing values\n",
        "print('Number of missing values across columns: \\n',ratings.isnull().sum())"
      ],
      "execution_count": null,
      "outputs": [
        {
          "output_type": "stream",
          "name": "stdout",
          "text": [
            "Number of missing values across columns: \n",
            " userId       0\n",
            "productId    0\n",
            "Rating       0\n",
            "timestamp    0\n",
            "dtype: int64\n"
          ]
        }
      ]
    },
    {
      "cell_type": "markdown",
      "metadata": {
        "id": "9BkyTlNLvOFK"
      },
      "source": [
        ""
      ]
    },
    {
      "cell_type": "code",
      "metadata": {
        "colab": {
          "base_uri": "https://localhost:8080/",
          "height": 298
        },
        "id": "V8QocemVvJET",
        "outputId": "846d14c0-35f9-41c6-8e1f-5e3e1b68f2e5"
      },
      "source": [
        "# Most popular products\n",
        "popular = ratings[['productId','Rating']].groupby('productId').sum().reset_index()\n",
        "popular_20 = popular.sort_values('Rating', ascending=False).head(n=20)\n",
        "\n",
        "objects = (list(popular_20['productId']))\n",
        "y_pos = np.arange(len(objects))\n",
        "performance = list(popular_20['Rating'])\n",
        " \n",
        "plt.bar(y_pos, performance, align='center', alpha=0.5)\n",
        "#plt.xticks(y_pos, objects, rotation='vertical')\n",
        "plt.ylabel('Num of ratings')\n",
        "plt.title('Most popular')\n",
        " \n",
        "plt.show()"
      ],
      "execution_count": null,
      "outputs": [
        {
          "output_type": "execute_result",
          "data": {
            "text/plain": [
              "<BarContainer object of 20 artists>"
            ]
          },
          "metadata": {},
          "execution_count": 6
        },
        {
          "output_type": "execute_result",
          "data": {
            "text/plain": [
              "Text(0, 0.5, 'Num of ratings')"
            ]
          },
          "metadata": {},
          "execution_count": 6
        },
        {
          "output_type": "execute_result",
          "data": {
            "text/plain": [
              "Text(0.5, 1.0, 'Most popular')"
            ]
          },
          "metadata": {},
          "execution_count": 6
        },
        {
          "output_type": "display_data",
          "data": {
            "image/png": "[encoded data removed]",
            "text/plain": [
              "<Figure size 432x288 with 1 Axes>"
            ]
          },
          "metadata": {
            "needs_background": "light"
          }
        }
      ]
    },
    {
      "cell_type": "markdown",
      "metadata": {
        "id": "4j72cUMZByHH"
      },
      "source": [
        "#Distribution of ratings per user"
      ]
    },
    {
      "cell_type": "code",
      "metadata": {
        "colab": {
          "base_uri": "https://localhost:8080/"
        },
        "id": "p9XEz3TxvyD5",
        "outputId": "90b20045-018a-4f75-d68e-4133438fa4e4"
      },
      "source": [
        "ratings_per_user = ratings.groupby('userId')['Rating'].count()\n",
        "ratings_per_user = pd.DataFrame(ratings_per_user)\n",
        "ratings_per_user.sort_values(by=ratings_per_user.columns[0], inplace = True)\n",
        "ratings_per_user.rename(columns = {'Rating': 'No. of products rated'}, inplace = True)\n",
        "print(ratings_per_user)\n",
        "ratings_per_user.rename(columns = {'Num. of products rated':'Rating'}, inplace = True)\n",
        "\n",
        "print('\\nAvg no of ratings per user: ', statistics.mean(ratings_per_user[ratings_per_user.columns[0]].tolist()))"
      ],
      "execution_count": null,
      "outputs": [
        {
          "output_type": "stream",
          "name": "stdout",
          "text": [
            "                       No. of products rated\n",
            "userId                                      \n",
            "A0002382258OFJJ2UYNTR                      1\n",
            "A3DTXPIA1LW4LI                             1\n",
            "A3DTWRE957F5ZK                             1\n",
            "A3DTWDOB8PFXCN                             1\n",
            "A3DTVMQGMNLX26                             1\n",
            "...                                      ...\n",
            "A2PR6NXG0PA3KY                           135\n",
            "A33GGROUQRQZS                            154\n",
            "A2NYK9KWFMJV4Y                           454\n",
            "A2AIMXT9PLAM12                           463\n",
            "A2PAD826IH1HFE                           483\n",
            "\n",
            "[339231 rows x 1 columns]\n",
            "\n",
            "Avg no of ratings per user:  1.4744407203351109\n"
          ]
        }
      ]
    },
    {
      "cell_type": "code",
      "metadata": {
        "colab": {
          "base_uri": "https://localhost:8080/",
          "height": 455
        },
        "id": "N3yaWSh2rADP",
        "outputId": "1e2e7b83-44d7-4b44-c3b8-c57e92edbf0f"
      },
      "source": [
        "ratings_per_user"
      ],
      "execution_count": null,
      "outputs": [
        {
          "output_type": "execute_result",
          "data": {
            "text/html": [
              "<div>\n",
              "<style scoped>\n",
              "    .dataframe tbody tr th:only-of-type {\n",
              "        vertical-align: middle;\n",
              "    }\n",
              "\n",
              "    .dataframe tbody tr th {\n",
              "        vertical-align: top;\n",
              "    }\n",
              "\n",
              "    .dataframe thead th {\n",
              "        text-align: right;\n",
              "    }\n",
              "</style>\n",
              "<table border=\"1\" class=\"dataframe\">\n",
              "  <thead>\n",
              "    <tr style=\"text-align: right;\">\n",
              "      <th></th>\n",
              "      <th>No. of products rated</th>\n",
              "    </tr>\n",
              "    <tr>\n",
              "      <th>userId</th>\n",
              "      <th></th>\n",
              "    </tr>\n",
              "  </thead>\n",
              "  <tbody>\n",
              "    <tr>\n",
              "      <th>A0002382258OFJJ2UYNTR</th>\n",
              "      <td>1</td>\n",
              "    </tr>\n",
              "    <tr>\n",
              "      <th>A3DTXPIA1LW4LI</th>\n",
              "      <td>1</td>\n",
              "    </tr>\n",
              "    <tr>\n",
              "      <th>A3DTWRE957F5ZK</th>\n",
              "      <td>1</td>\n",
              "    </tr>\n",
              "    <tr>\n",
              "      <th>A3DTWDOB8PFXCN</th>\n",
              "      <td>1</td>\n",
              "    </tr>\n",
              "    <tr>\n",
              "      <th>A3DTVMQGMNLX26</th>\n",
              "      <td>1</td>\n",
              "    </tr>\n",
              "    <tr>\n",
              "      <th>...</th>\n",
              "      <td>...</td>\n",
              "    </tr>\n",
              "    <tr>\n",
              "      <th>A2PR6NXG0PA3KY</th>\n",
              "      <td>135</td>\n",
              "    </tr>\n",
              "    <tr>\n",
              "      <th>A33GGROUQRQZS</th>\n",
              "      <td>154</td>\n",
              "    </tr>\n",
              "    <tr>\n",
              "      <th>A2NYK9KWFMJV4Y</th>\n",
              "      <td>454</td>\n",
              "    </tr>\n",
              "    <tr>\n",
              "      <th>A2AIMXT9PLAM12</th>\n",
              "      <td>463</td>\n",
              "    </tr>\n",
              "    <tr>\n",
              "      <th>A2PAD826IH1HFE</th>\n",
              "      <td>483</td>\n",
              "    </tr>\n",
              "  </tbody>\n",
              "</table>\n",
              "<p>339231 rows × 1 columns</p>\n",
              "</div>"
            ],
            "text/plain": [
              "                       No. of products rated\n",
              "userId                                      \n",
              "A0002382258OFJJ2UYNTR                      1\n",
              "A3DTXPIA1LW4LI                             1\n",
              "A3DTWRE957F5ZK                             1\n",
              "A3DTWDOB8PFXCN                             1\n",
              "A3DTVMQGMNLX26                             1\n",
              "...                                      ...\n",
              "A2PR6NXG0PA3KY                           135\n",
              "A33GGROUQRQZS                            154\n",
              "A2NYK9KWFMJV4Y                           454\n",
              "A2AIMXT9PLAM12                           463\n",
              "A2PAD826IH1HFE                           483\n",
              "\n",
              "[339231 rows x 1 columns]"
            ]
          },
          "metadata": {},
          "execution_count": 83
        }
      ]
    },
    {
      "cell_type": "code",
      "metadata": {
        "id": "QC_Y_Y0Vo6My"
      },
      "source": [
        "no_of_rated_movies_per_user = ratings.groupby(by='userId')['Rating'].count().sort_values(ascending=False)"
      ],
      "execution_count": null,
      "outputs": []
    },
    {
      "cell_type": "code",
      "metadata": {
        "colab": {
          "base_uri": "https://localhost:8080/"
        },
        "id": "8uOx14bHq23T",
        "outputId": "36868582-a731-4117-a335-5133295cf73f"
      },
      "source": [
        "no_of_rated_movies_per_user"
      ],
      "execution_count": null,
      "outputs": [
        {
          "output_type": "execute_result",
          "data": {
            "text/plain": [
              "userId\n",
              "A2PAD826IH1HFE           483\n",
              "A2AIMXT9PLAM12           463\n",
              "A2NYK9KWFMJV4Y           454\n",
              "A33GGROUQRQZS            154\n",
              "A2PR6NXG0PA3KY           135\n",
              "                        ... \n",
              "A3DTVMQGMNLX26             1\n",
              "A3DTWDOB8PFXCN             1\n",
              "A3DTWRE957F5ZK             1\n",
              "A3DTXPIA1LW4LI             1\n",
              "A0002382258OFJJ2UYNTR      1\n",
              "Name: Rating, Length: 339231, dtype: int64"
            ]
          },
          "metadata": {},
          "execution_count": 85
        }
      ]
    },
    {
      "cell_type": "code",
      "metadata": {
        "colab": {
          "base_uri": "https://localhost:8080/",
          "height": 489
        },
        "id": "X626jqoqooqA",
        "outputId": "93c82810-5025-464f-ef1b-f6fe3a4c6e34"
      },
      "source": [
        "fig = plt.figure(figsize=plt.figaspect(.5))\n",
        "\n",
        "ax1 = plt.subplot(121)\n",
        "sns.kdeplot(no_of_rated_movies_per_user, shade=True, ax=ax1)\n",
        "plt.xlabel('No of ratings by user')\n",
        "plt.title(\"PDF\")"
      ],
      "execution_count": null,
      "outputs": [
        {
          "output_type": "execute_result",
          "data": {
            "text/plain": [
              "<matplotlib.axes._subplots.AxesSubplot at 0x7ff7a6d48ed0>"
            ]
          },
          "metadata": {},
          "execution_count": 86
        },
        {
          "output_type": "execute_result",
          "data": {
            "text/plain": [
              "Text(0.5, 0, 'No of ratings by user')"
            ]
          },
          "metadata": {},
          "execution_count": 86
        },
        {
          "output_type": "execute_result",
          "data": {
            "text/plain": [
              "Text(0.5, 1.0, 'PDF')"
            ]
          },
          "metadata": {},
          "execution_count": 86
        },
        {
          "output_type": "display_data",
          "data": {
            "image/png": "[encoded data removed]",
            "text/plain": [
              "<Figure size 960x480 with 1 Axes>"
            ]
          },
          "metadata": {}
        }
      ]
    },
    {
      "cell_type": "markdown",
      "metadata": {
        "id": "H5IMPmBBd9Vr"
      },
      "source": [
        "#Distribution of ratings per product"
      ]
    },
    {
      "cell_type": "code",
      "metadata": {
        "colab": {
          "base_uri": "https://localhost:8080/"
        },
        "id": "DSwFySG5Djl-",
        "outputId": "4c910060-e433-4e5c-df18-97db64d4651a"
      },
      "source": [
        "# Number of ratings per product\n",
        "ratings_per_product = ratings.groupby('productId')['Rating'].count()\n",
        "ratings_per_product = ratings_per_product.to_frame()\n",
        "ratings_per_product.sort_values(by=ratings_per_product.columns[0], inplace = True)\n",
        "ratings_per_product.rename(columns = {'Rating': 'No. of ratings recieved'}, inplace = True)\n",
        "print(ratings_per_product)\n",
        "ratings_per_product.rename(columns = {'No. of ratings recieved':'Rating'}, inplace = True)\n",
        "\n",
        "print('\\nAvg no of ratings per product: ', statistics.mean(ratings_per_product[ratings_per_product.columns[0]].tolist()))"
      ],
      "execution_count": null,
      "outputs": [
        {
          "output_type": "stream",
          "name": "stdout",
          "text": [
            "            No. of ratings recieved\n",
            "productId                          \n",
            "0006428320                        1\n",
            "B0054EUE9E                        1\n",
            "B0054EIRIY                        1\n",
            "B0054CNXS0                        1\n",
            "B0010E3D5O                        1\n",
            "...                             ...\n",
            "B00FPPQYXM                     1287\n",
            "B001MSS6CS                     1420\n",
            "B003VWKPHC                     1603\n",
            "B003VWJ2K8                     2275\n",
            "B000ULAP4U                     3523\n",
            "\n",
            "[83046 rows x 1 columns]\n",
            "\n",
            "Avg no of ratings per product:  6.022878886400308\n"
          ]
        }
      ]
    },
    {
      "cell_type": "code",
      "metadata": {
        "colab": {
          "base_uri": "https://localhost:8080/",
          "height": 463
        },
        "id": "xLLAAPGhmS5n",
        "outputId": "26fce58a-4ceb-4f19-a2e0-928c60411ccc"
      },
      "source": [
        "no_of_ratings_per_movie = ratings.groupby(by='productId')['Rating'].count().sort_values(ascending=False)\n",
        "\n",
        "fig = plt.figure(figsize=plt.figaspect(.28))\n",
        "ax = plt.gca()\n",
        "plt.plot(ratings_per_product.values)\n",
        "plt.title('# RATINGS per Muscie Instrument')\n",
        "plt.xlabel('Product')\n",
        "plt.ylabel('No of Users who rated a productId')\n",
        "ax.set_xticklabels([])\n",
        "\n",
        "plt.show()"
      ],
      "execution_count": null,
      "outputs": [
        {
          "output_type": "execute_result",
          "data": {
            "text/plain": [
              "[<matplotlib.lines.Line2D at 0x7ff7a9c309d0>]"
            ]
          },
          "metadata": {},
          "execution_count": 69
        },
        {
          "output_type": "execute_result",
          "data": {
            "text/plain": [
              "Text(0.5, 1.0, '# RATINGS per Muscie Instrument')"
            ]
          },
          "metadata": {},
          "execution_count": 69
        },
        {
          "output_type": "execute_result",
          "data": {
            "text/plain": [
              "Text(0.5, 0, 'Product')"
            ]
          },
          "metadata": {},
          "execution_count": 69
        },
        {
          "output_type": "execute_result",
          "data": {
            "text/plain": [
              "Text(0, 0.5, 'No of Users who rated a productId')"
            ]
          },
          "metadata": {},
          "execution_count": 69
        },
        {
          "output_type": "execute_result",
          "data": {
            "text/plain": [
              "[]"
            ]
          },
          "metadata": {},
          "execution_count": 69
        },
        {
          "output_type": "display_data",
          "data": {
            "image/png": "[encoded data removed]",
            "text/plain": [
              "<Figure size 1600x448 with 1 Axes>"
            ]
          },
          "metadata": {}
        }
      ]
    },
    {
      "cell_type": "code",
      "metadata": {
        "colab": {
          "base_uri": "https://localhost:8080/"
        },
        "id": "BgL6jXybnjTA",
        "outputId": "ae278d3a-5c5d-4f36-b435-d2b9b923724c"
      },
      "source": [
        "no_of_ratings_per_movie"
      ],
      "execution_count": null,
      "outputs": [
        {
          "output_type": "execute_result",
          "data": {
            "text/plain": [
              "productId\n",
              "B000ULAP4U    3523\n",
              "B003VWJ2K8    2275\n",
              "B003VWKPHC    1603\n",
              "B001MSS6CS    1420\n",
              "B00FPPQYXM    1287\n",
              "              ... \n",
              "B0010E3D5O       1\n",
              "B0054CNXS0       1\n",
              "B0054EIRIY       1\n",
              "B0054EUE9E       1\n",
              "0006428320       1\n",
              "Name: Rating, Length: 83046, dtype: int64"
            ]
          },
          "metadata": {},
          "execution_count": 60
        }
      ]
    },
    {
      "cell_type": "markdown",
      "metadata": {
        "id": "6PayXRZNiEZ6"
      },
      "source": [
        "#Analysis for the Ratings"
      ]
    },
    {
      "cell_type": "code",
      "metadata": {
        "colab": {
          "base_uri": "https://localhost:8080/"
        },
        "id": "tYUEfY-6xCWU",
        "outputId": "62f8c84e-58a4-41ec-d078-22e7f3f87d37"
      },
      "source": [
        "#Summary statistics of rating variable\n",
        "ratings['Rating'].describe().transpose()"
      ],
      "execution_count": null,
      "outputs": [
        {
          "output_type": "execute_result",
          "data": {
            "text/plain": [
              "count    500176.000000\n",
              "mean          4.244350\n",
              "std           1.203374\n",
              "min           1.000000\n",
              "25%           4.000000\n",
              "50%           5.000000\n",
              "75%           5.000000\n",
              "max           5.000000\n",
              "Name: Rating, dtype: float64"
            ]
          },
          "metadata": {},
          "execution_count": 34
        }
      ]
    },
    {
      "cell_type": "code",
      "metadata": {
        "colab": {
          "base_uri": "https://localhost:8080/",
          "height": 296
        },
        "id": "ygQp_ZtExOgz",
        "outputId": "97654e90-fb0a-40ed-fcf1-2261e036a1de"
      },
      "source": [
        "# Check the distribution of the rating\n",
        "sns.countplot(ratings.Rating)"
      ],
      "execution_count": null,
      "outputs": [
        {
          "output_type": "execute_result",
          "data": {
            "text/plain": [
              "<matplotlib.axes._subplots.AxesSubplot at 0x7ff7a6e28f50>"
            ]
          },
          "metadata": {},
          "execution_count": 54
        },
        {
          "output_type": "display_data",
          "data": {
            "image/png": "[encoded data removed]",
            "text/plain": [
              "<Figure size 432x288 with 1 Axes>"
            ]
          },
          "metadata": {
            "needs_background": "light"
          }
        }
      ]
    }
  ]
}